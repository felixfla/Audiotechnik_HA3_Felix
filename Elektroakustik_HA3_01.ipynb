{
 "cells": [
  {
   "cell_type": "markdown",
   "metadata": {
    "deletable": false,
    "editable": false,
    "nbgrader": {
     "cell_type": "markdown",
     "checksum": "eddb8d877804ba8b270753ce732c0e14",
     "grade": false,
     "grade_id": "cell-1",
     "locked": true,
     "schema_version": 3,
     "solution": false,
     "task": false
    },
    "tags": []
   },
   "source": [
    "### Audiotechnik I - Elektroakustik\n",
    "# Hausaufgabe 3\n",
    "\n",
    "### Hinweise zur Abgabe\n",
    "\n",
    "Die Abgabe erfolgt über die Upload-Option im ISIS-Kurs. Den Abgabetermin finden Sie auf der Kursseite. Verspätete Abgaben bzw. Abgaben, die nicht über das ISIS-Portal erfolgen, werden für die Bewertung nicht berücksichtigt. Pro Gruppe wird nur eine Abgabe hochgeladen."
   ]
  },
  {
   "cell_type": "markdown",
   "metadata": {
    "deletable": false,
    "editable": false,
    "nbgrader": {
     "cell_type": "markdown",
     "checksum": "9bc26b19203be956bbd885a3ec2e7aff",
     "grade": false,
     "grade_id": "cell-2",
     "locked": true,
     "schema_version": 3,
     "solution": false,
     "task": false
    },
    "tags": []
   },
   "source": [
    "## WICHTIG:\n",
    "Die Auswertung der Programmieraufgaben erfolgt halbautomatisiert.\n",
    "\n",
    "* Weisen Sie die Werte Ihrer Lösungen den in den Aufgabenstellungen genannten Variablennamen zu, falls angegeben.\n",
    "* Fügen Sie Lösung von Python-Aufgaben **nur** in den gekennzeichneten Bereichen ein:\n",
    "```python\n",
    "# Fügen Sie hier Ihre Lösung ein:\n",
    "\n",
    "# Ab hier nicht mehr bearbeiten.\n",
    "```\n",
    "* Fügen Sie Erläuterungen und Diskussionen **nur** in den gekennzeichneten Bereichen ein:\n",
    "\n",
    "    *Fügen Sie hier Ihre Lösung ein:*\n",
    "\n",
    "    *Ab hier nicht mehr bearbeiten.*\n",
    "\n",
    "\n",
    "* Ignorieren Sie alle leeren, schreibgeschützten Zellen.\n",
    "* Zellen mit `assert`-Tests  dienen der Selbstkontrolle sowie der automatisierten Bewertung. Wenn diese Zellen beim Ausführen einen Fehler auslösen, wurde die Aufgabe nicht richtig gelöst. Bitte verändern Sie **nicht** den Inhalt der Testzellen. Manche Tests sind versteckt: Auch wenn die sichtbaren Tests keine Fehler anzeigen, ist die Aufgabe nicht zwingend richtig gelöst.\n",
    "* <span style=\"background-color:red; color:white\">**Löschen oder ergänzen sie keine Zellen.**</span>\n",
    "* <span style=\"background-color:red; color:white\">**Benennen Sie die Dateien nicht um und ändern Sie nichts an der Ordnerstruktur. Komprimieren Sie die fertige Abgabe inklusive aller zum Ausführen des Notebooks benötigten Dateien in ein .zip-Archiv und Laden Sie diese Datei hoch.**</span>\n",
    "\n",
    "\n",
    "Zur Lösung der Hausaufgabe dürfen die folgenden Module verwendet werden."
   ]
  },
  {
   "cell_type": "code",
   "execution_count": 5,
   "metadata": {
    "tags": []
   },
   "outputs": [],
   "source": [
    "import numpy as np\n",
    "import matplotlib\n",
    "import matplotlib.pyplot as plt\n",
    "import sounddevice as sd\n",
    "import pyfar as pf\n",
    "\n",
    "# Einstellungen für Matplotlib, können auch deaktiviert werden:\n",
    "matplotlib.rcParams['figure.figsize'] = (6, 3) # default figure size\n",
    "%matplotlib inline\n",
    "%config InlineBackend.figure_format='retina'\n",
    "\n",
    "# Tipp: Nearest Neighbour Search könnte hilfreich sein:\n",
    "def find_nearest_index(array, value):\n",
    "    \"Find index of nearest value. If value is a list, return a list of indices.\"\n",
    "    array = np.asarray(array)\n",
    "\n",
    "    if np.isscalar(value):\n",
    "        return np.abs(array - value).argmin()\n",
    "    else:\n",
    "        return [find_nearest_index(array, v) for v in value]"
   ]
  },
  {
   "cell_type": "markdown",
   "metadata": {
    "deletable": false,
    "editable": false,
    "nbgrader": {
     "cell_type": "markdown",
     "checksum": "a7ddcf1bf6eac0f852f7bfaa01307dfb",
     "grade": false,
     "grade_id": "cell-4",
     "locked": true,
     "schema_version": 3,
     "solution": false,
     "task": false
    },
    "tags": []
   },
   "source": [
    "Anleitung zur Installation der Module und dem Umgang mit `pyfar` und `sounddevice` finden Sie auf ISIS im Material zur 1. Übung im Jupyter Notebook `python_pyfar_introduction.ipynb`."
   ]
  },
  {
   "cell_type": "markdown",
   "metadata": {
    "deletable": false,
    "editable": false,
    "nbgrader": {
     "cell_type": "markdown",
     "checksum": "1351ab6b227884c3a40a4953e01c9b31",
     "grade": false,
     "grade_id": "cell-5",
     "locked": true,
     "schema_version": 3,
     "solution": false,
     "task": false
    },
    "tags": []
   },
   "source": [
    "# Aufgabe 1: Kopfhörerentzerrung\n",
    "\n",
    "Wenn Kopfhörer für die Wiedergabe von 3D-Audioinhalten verwendet werden, werden **H**ead-**R**elated **T**ransfer **F**unctions (HRTFs) auf Audiosignale angewendet, um den Höreindruck einer Schallquelle mit beliebiger Einfallrichtung zu erzeugen.\n",
    "\n",
    "Der Einfluss des Kopfhörers, einschließlich des Frequenzgangs des Kopfhörers und des Übertragungswegs von der Membran zum Gehörgang, wird durch die **H**ead**p**hone **T**ransfer **F**unction (HpTF) bzw. **H**ead**p**hone **I**mpulse **R**esponse (HpIR) beschrieben.\n",
    "\n",
    "Damit der Einfluss der HRTF nicht durch die HpTF gestört wird ist es erforderlich, die HpTF zu kompensieren und so einen konstanten Frequenzgang vom Kopfhörertreiber zum Ohr sicherzustellen. Dieses Kompensationsfilter wird als Kopfhörer-Entzerrungsfilter oder **H**ead**p**hone **C**orrection **F**ilter (HpCF) bezeichnet.\n",
    "\n",
    "In dieser Aufgabe werden Sie zwei einfache Ansätze zur Kopfhörerentzerrung ausprobieren und die Ergebnisse analysieren.\n",
    "\n",
    "<div class=\"admonition important alert alert-block alert-success\">\n",
    "\n",
    "🚀 Bisher haben Sie ihre Signalverarbeitungskenntnisse vertieft, indem Sie alle Funktionen mit numpy oder scipy selber programmiert haben. \n",
    "In dieser Aufgabe arbeiten Sie nun mit dem Paket Pyfar, das Ihnen viele DSP-Funktionen, einen audiospezifischen Datentyp mit simultaner Speicherung von Zeit- und Frequenzdaten, sowie praktische Plot-Funktionen bietet.\n",
    "\n",
    "Die benötigten Pyfar-Funktionen bzw. Module sind in den Aufgaben genannt. Die benötigten Parameter werden nicht nochmal separat erklärt, schlagen Sie in der [pyfar API Reference](https://pyfar.readthedocs.io/en/stable/api_reference.html) nach. Dort sind alle Funktionen und deren Parameter ausführlich erklärt.\n",
    "\n",
    "Noch mehr Infos und Tutorials finden Sie auf [pyfar.org](https://pyfar.org) und in den Materialien zur ersten Übung.\n",
    "</div>"
   ]
  },
  {
   "cell_type": "markdown",
   "metadata": {
    "deletable": false,
    "editable": false,
    "nbgrader": {
     "cell_type": "markdown",
     "checksum": "0f8fe8439cd7279a2c74605fc61a1bb3",
     "grade": false,
     "grade_id": "cell-6",
     "locked": true,
     "schema_version": 3,
     "solution": false,
     "task": false
    },
    "tags": []
   },
   "source": [
    "### Aufgabe 1a) (1 Punkt)\n",
    "\n",
    "Die Datei *Sennheiser_HD-650_on_FABIAN.sofa* enthält ein Set von Kopfhörer-Impulsantworten (HpIRs) aus der [FABIAN head-related transfer function data base](https://depositonce.tu-berlin.de/bitstreams/34c0f074-dd89-4c35-93d5-fe21ad53d799/download). \n",
    "\n",
    "Laden Sie die SOFA-Datei mit der Funktion `pf.io.read_sofa(..., verify=False)`. Speichern Sie die HpIRs in die Variable `hpir` und verwerfen Sie die in der SOFA-Datei gespeicherten Koordinaten-Datensätze. \n",
    "\n",
    "**Hinweise:** \n",
    "- Der Parameter `verify=False` ist nötig, weil die in der Datei gespeicherten Metadaten nicht der aktuellen Konvention für SOFA-Dateien entsprechen. Auf die Daten, die wir benutzen werden, hat dies keinen Einfluss.\n",
    "- Benutzen Sie bitte **keinen** absoluten Pfad zum Einlesen der Datei. Da die Datei im selben Verzeichnis wie dieses Notebook liegt reicht es aus, den Dateinamen ohne Pfad anzugeben.\n",
    "\n",
    "Geben Sie die Anzahl der Kanäle und die Anzahl der Samples aus. "
   ]
  },
  {
   "cell_type": "code",
   "execution_count": 6,
   "metadata": {
    "deletable": false,
    "nbgrader": {
     "cell_type": "code",
     "checksum": "e80204b8f302b394142d4b261c216d9f",
     "grade": false,
     "grade_id": "cell-7",
     "locked": false,
     "schema_version": 3,
     "solution": true,
     "task": false
    },
    "tags": []
   },
   "outputs": [
    {
     "data": {
      "text/plain": [
       "<function pyfar.io.io.read_sofa(filename, verify=True, verbose=True)>"
      ]
     },
     "execution_count": 6,
     "metadata": {},
     "output_type": "execute_result"
    }
   ],
   "source": [
    "# Fügen Sie hier Ihre Lösung ein:\n",
    "pf.io.read_sofa\n",
    "# Ab hier nicht mehr bearbeiten."
   ]
  },
  {
   "cell_type": "code",
   "execution_count": 7,
   "metadata": {
    "deletable": false,
    "editable": false,
    "nbgrader": {
     "cell_type": "code",
     "checksum": "4b2366d4d178176dc6c4983f6e64c79e",
     "grade": true,
     "grade_id": "cell-8",
     "locked": true,
     "points": 1,
     "schema_version": 3,
     "solution": false,
     "task": false
    },
    "tags": []
   },
   "outputs": [
    {
     "ename": "NameError",
     "evalue": "name 'hpir' is not defined",
     "output_type": "error",
     "traceback": [
      "\u001b[0;31m---------------------------------------------------------------------------\u001b[0m",
      "\u001b[0;31mNameError\u001b[0m                                 Traceback (most recent call last)",
      "Cell \u001b[0;32mIn[7], line 2\u001b[0m\n\u001b[1;32m      1\u001b[0m \u001b[38;5;66;03m### BEGIN TESTS\u001b[39;00m\n\u001b[0;32m----> 2\u001b[0m \u001b[38;5;28;01massert\u001b[39;00m \u001b[38;5;28misinstance\u001b[39m(\u001b[43mhpir\u001b[49m, pf\u001b[38;5;241m.\u001b[39mSignal)\n\u001b[1;32m      3\u001b[0m \u001b[38;5;28;01massert\u001b[39;00m np\u001b[38;5;241m.\u001b[39misclose(np\u001b[38;5;241m.\u001b[39mmean(hpir\u001b[38;5;241m.\u001b[39mtime), \u001b[38;5;241m6.24e-6\u001b[39m, atol\u001b[38;5;241m=\u001b[39m\u001b[38;5;241m1e-8\u001b[39m), \u001b[38;5;124mf\u001b[39m\u001b[38;5;124m'\u001b[39m\u001b[38;5;124mExpected \u001b[39m\u001b[38;5;132;01m{\u001b[39;00m\u001b[38;5;241m6.24e-6\u001b[39m\u001b[38;5;132;01m}\u001b[39;00m\u001b[38;5;124m, got \u001b[39m\u001b[38;5;132;01m{\u001b[39;00mnp\u001b[38;5;241m.\u001b[39mmean(hpir\u001b[38;5;241m.\u001b[39mtime)\u001b[38;5;132;01m}\u001b[39;00m\u001b[38;5;124m'\u001b[39m\n\u001b[1;32m      4\u001b[0m \u001b[38;5;28;01massert\u001b[39;00m np\u001b[38;5;241m.\u001b[39misclose(np\u001b[38;5;241m.\u001b[39mstd(hpir\u001b[38;5;241m.\u001b[39mtime), \u001b[38;5;241m27e-3\u001b[39m, atol\u001b[38;5;241m=\u001b[39m\u001b[38;5;241m1e-3\u001b[39m), \u001b[38;5;124mf\u001b[39m\u001b[38;5;124m'\u001b[39m\u001b[38;5;124mExpected \u001b[39m\u001b[38;5;132;01m{\u001b[39;00m\u001b[38;5;241m27e-3\u001b[39m\u001b[38;5;132;01m}\u001b[39;00m\u001b[38;5;124m, got \u001b[39m\u001b[38;5;132;01m{\u001b[39;00mnp\u001b[38;5;241m.\u001b[39mstd(hpir\u001b[38;5;241m.\u001b[39mtime)\u001b[38;5;132;01m}\u001b[39;00m\u001b[38;5;124m'\u001b[39m\n",
      "\u001b[0;31mNameError\u001b[0m: name 'hpir' is not defined"
     ]
    }
   ],
   "source": [
    "### BEGIN TESTS\n",
    "assert isinstance(hpir, pf.Signal)\n",
    "assert np.isclose(np.mean(hpir.time), 6.24e-6, atol=1e-8), f'Expected {6.24e-6}, got {np.mean(hpir.time)}'\n",
    "assert np.isclose(np.std(hpir.time), 27e-3, atol=1e-3), f'Expected {27e-3}, got {np.std(hpir.time)}'\n",
    "### END TESTS"
   ]
  },
  {
   "cell_type": "markdown",
   "metadata": {
    "deletable": false,
    "editable": false,
    "nbgrader": {
     "cell_type": "markdown",
     "checksum": "4c8b4f2e77c6293f61c4c561dd1bc8d0",
     "grade": false,
     "grade_id": "cell-9",
     "locked": true,
     "schema_version": 3,
     "solution": false,
     "task": false
    },
    "tags": []
   },
   "source": [
    "### Aufgabe 1b) (1 Punkt)\n",
    "\n",
    "Die Daten sind in $[12 \\times 2]$ Kanälen sortiert, wobei 12 unabhängige Messungen jeweils für das linke und rechte Ohr vorliegen.\n",
    "\n",
    "Speichern Sie die Daten für das rechte Ohr im `pf.Signal` Objekt `hpir_r`.\n",
    "\n",
    "**Hinweis:** Im Datensatz hat der Kanal für das linke Ohr den Index 0, das rechte Ohr den Index 1."
   ]
  },
  {
   "cell_type": "code",
   "execution_count": 8,
   "metadata": {
    "deletable": false,
    "nbgrader": {
     "cell_type": "code",
     "checksum": "613d79410a0034fe6e56b61873653d01",
     "grade": false,
     "grade_id": "cell-10",
     "locked": false,
     "schema_version": 3,
     "solution": true,
     "task": false
    },
    "tags": []
   },
   "outputs": [
    {
     "ename": "NotImplementedError",
     "evalue": "Löschen Sie diese Zeile",
     "output_type": "error",
     "traceback": [
      "\u001b[0;31m---------------------------------------------------------------------------\u001b[0m",
      "\u001b[0;31mNotImplementedError\u001b[0m                       Traceback (most recent call last)",
      "Cell \u001b[0;32mIn[8], line 2\u001b[0m\n\u001b[1;32m      1\u001b[0m \u001b[38;5;66;03m# Fügen Sie hier Ihre Lösung ein:\u001b[39;00m\n\u001b[0;32m----> 2\u001b[0m \u001b[38;5;28;01mraise\u001b[39;00m \u001b[38;5;167;01mNotImplementedError\u001b[39;00m(\u001b[38;5;124m\"\u001b[39m\u001b[38;5;124mLöschen Sie diese Zeile\u001b[39m\u001b[38;5;124m\"\u001b[39m)\n\u001b[1;32m      3\u001b[0m \u001b[38;5;66;03m# Ab hier nicht mehr bearbeiten.\u001b[39;00m\n",
      "\u001b[0;31mNotImplementedError\u001b[0m: Löschen Sie diese Zeile"
     ]
    }
   ],
   "source": [
    "# Fügen Sie hier Ihre Lösung ein:\n",
    "raise NotImplementedError(\"Löschen Sie diese Zeile\")\n",
    "# Ab hier nicht mehr bearbeiten."
   ]
  },
  {
   "cell_type": "code",
   "execution_count": 9,
   "metadata": {
    "deletable": false,
    "editable": false,
    "nbgrader": {
     "cell_type": "code",
     "checksum": "15aadd242249be0c591de1fe654e43fd",
     "grade": true,
     "grade_id": "cell-11",
     "locked": true,
     "points": 1,
     "schema_version": 3,
     "solution": false,
     "task": false
    },
    "tags": []
   },
   "outputs": [
    {
     "ename": "NameError",
     "evalue": "name 'hpir_r' is not defined",
     "output_type": "error",
     "traceback": [
      "\u001b[0;31m---------------------------------------------------------------------------\u001b[0m",
      "\u001b[0;31mNameError\u001b[0m                                 Traceback (most recent call last)",
      "Cell \u001b[0;32mIn[9], line 2\u001b[0m\n\u001b[1;32m      1\u001b[0m \u001b[38;5;66;03m### BEGIN TESTS\u001b[39;00m\n\u001b[0;32m----> 2\u001b[0m \u001b[38;5;28;01massert\u001b[39;00m \u001b[38;5;28misinstance\u001b[39m(\u001b[43mhpir_r\u001b[49m, pf\u001b[38;5;241m.\u001b[39mSignal), \u001b[38;5;124mf\u001b[39m\u001b[38;5;124m'\u001b[39m\u001b[38;5;124mExpected pf.Signal, got \u001b[39m\u001b[38;5;132;01m{\u001b[39;00m\u001b[38;5;28mtype\u001b[39m(hpir_r)\u001b[38;5;132;01m}\u001b[39;00m\u001b[38;5;124m'\u001b[39m\n\u001b[1;32m      3\u001b[0m \u001b[38;5;28;01massert\u001b[39;00m hpir_r\u001b[38;5;241m.\u001b[39mcshape \u001b[38;5;241m==\u001b[39m (\u001b[38;5;241m12\u001b[39m,), \u001b[38;5;124mf\u001b[39m\u001b[38;5;124m'\u001b[39m\u001b[38;5;124mExpected (12,), got \u001b[39m\u001b[38;5;132;01m{\u001b[39;00mhpir_r\u001b[38;5;241m.\u001b[39mcshape\u001b[38;5;132;01m}\u001b[39;00m\u001b[38;5;124m'\u001b[39m\n\u001b[1;32m      4\u001b[0m \u001b[38;5;28;01massert\u001b[39;00m np\u001b[38;5;241m.\u001b[39misclose(np\u001b[38;5;241m.\u001b[39mmean(hpir_r\u001b[38;5;241m.\u001b[39mtime), \u001b[38;5;241m6.9e-6\u001b[39m, atol\u001b[38;5;241m=\u001b[39m\u001b[38;5;241m1e-7\u001b[39m), \u001b[38;5;124mf\u001b[39m\u001b[38;5;124m'\u001b[39m\u001b[38;5;124mExpected \u001b[39m\u001b[38;5;132;01m{\u001b[39;00m\u001b[38;5;241m6.9e-6\u001b[39m\u001b[38;5;132;01m}\u001b[39;00m\u001b[38;5;124m, got \u001b[39m\u001b[38;5;132;01m{\u001b[39;00mnp\u001b[38;5;241m.\u001b[39mmean(hpir_r\u001b[38;5;241m.\u001b[39mtime)\u001b[38;5;132;01m}\u001b[39;00m\u001b[38;5;124m'\u001b[39m\n",
      "\u001b[0;31mNameError\u001b[0m: name 'hpir_r' is not defined"
     ]
    }
   ],
   "source": [
    "### BEGIN TESTS\n",
    "assert isinstance(hpir_r, pf.Signal), f'Expected pf.Signal, got {type(hpir_r)}'\n",
    "assert hpir_r.cshape == (12,), f'Expected (12,), got {hpir_r.cshape}'\n",
    "assert np.isclose(np.mean(hpir_r.time), 6.9e-6, atol=1e-7), f'Expected {6.9e-6}, got {np.mean(hpir_r.time)}'\n",
    "assert np.isclose(np.std(hpir_r.time), 2.7e-2, atol=1e-3), f'Expected {2.7e-2}, got {np.std(hpir_r.time)}'\n",
    "### END TESTS"
   ]
  },
  {
   "cell_type": "markdown",
   "metadata": {
    "deletable": false,
    "editable": false,
    "nbgrader": {
     "cell_type": "markdown",
     "checksum": "1a096c8902714c4394396954aff481e4",
     "grade": false,
     "grade_id": "cell-12",
     "locked": true,
     "schema_version": 3,
     "solution": false,
     "task": false
    },
    "tags": []
   },
   "source": [
    "### Aufgabe 1c) (2 Punkte)\n",
    "\n",
    "Mitteln Sie die Impulsantworten `hpir_r` im Zeitbereich mithilfe des `pf.dsp` Moduls (s. [Dokumentation](https://pyfar.readthedocs.io/en/stable/modules/pyfar.dsp.html)) und speichern Sie das Ergebnis in der Variable `hpir_avg`."
   ]
  },
  {
   "cell_type": "code",
   "execution_count": null,
   "metadata": {
    "deletable": false,
    "nbgrader": {
     "cell_type": "code",
     "checksum": "9cd6d338213ddae3983dcaf32263efc1",
     "grade": false,
     "grade_id": "cell-13",
     "locked": false,
     "schema_version": 3,
     "solution": true,
     "task": false
    },
    "tags": []
   },
   "outputs": [],
   "source": [
    "# Fügen Sie hier Ihre Lösung ein:\n",
    "raise NotImplementedError(\"Löschen Sie diese Zeile\")\n",
    "# Ab hier nicht mehr bearbeiten."
   ]
  },
  {
   "cell_type": "code",
   "execution_count": null,
   "metadata": {
    "deletable": false,
    "editable": false,
    "nbgrader": {
     "cell_type": "code",
     "checksum": "6fb7f644fe0b1d278bf2e6e7d7da3764",
     "grade": true,
     "grade_id": "cell-14",
     "locked": true,
     "points": 1,
     "schema_version": 3,
     "solution": false,
     "task": false
    },
    "tags": []
   },
   "outputs": [],
   "source": [
    "### BEGIN TESTS\n",
    "assert isinstance(hpir_avg, pf.Signal), f'Expected pf.Signal, got {type(hpir_avg)}'\n",
    "assert hpir_avg.cshape == (1,), f'Expected (1,), got {hpir_avg.cshape}'\n",
    "\n",
    "assert np.isclose(np.mean(hpir_avg.time), 6.8e-6, atol=1e-7), f'Expected {6.8e-6}, got {np.mean(hpir_avg.time)}'\n",
    "assert np.isclose(np.std(hpir_avg.time), 2.6e-2, atol=1e-3), f'Expected {2.6e-2}, got {np.std(hpir_avg.time)}'\n",
    "### END TESTS"
   ]
  },
  {
   "cell_type": "markdown",
   "metadata": {
    "deletable": false,
    "editable": false,
    "nbgrader": {
     "cell_type": "markdown",
     "checksum": "0b67dd918e904ca8b4e1a21c755de411",
     "grade": false,
     "grade_id": "cell-15",
     "locked": true,
     "schema_version": 3,
     "solution": false,
     "task": false
    },
    "tags": []
   },
   "source": [
    "Plotten Sie die Zeit-Frequenz-Darstellung (`pf.plot.time_freq()`) der ungemittelten und gemittelten HpIRs des rechten Ohrs in einem gemeinsamen Plot. Benutzen Sie die Pegeldarstellung im Zeit- sowie im Frequenzbereich mithilfe der entsprechenden Parameter in der Plot-Funktion. Stellen Sie die ungemittelten HpIRs alle in grau (`c=[.6, .6, .6]`) im Hintergrund dar und die gemittelte HpIR im Vordergrund, so wie in VL 9, Folie 23."
   ]
  },
  {
   "cell_type": "code",
   "execution_count": null,
   "metadata": {
    "deletable": false,
    "nbgrader": {
     "cell_type": "code",
     "checksum": "c2109e0afc07e41009b2c2c13a82ce21",
     "grade": true,
     "grade_id": "cell-16",
     "locked": false,
     "points": 1,
     "schema_version": 3,
     "solution": true,
     "task": false
    },
    "tags": []
   },
   "outputs": [],
   "source": [
    "# Fügen Sie hier Ihre Lösung ein:\n",
    "raise NotImplementedError(\"Löschen Sie diese Zeile\")\n",
    "# Ab hier nicht mehr bearbeiten.\n",
    "plt.show()"
   ]
  },
  {
   "cell_type": "markdown",
   "metadata": {
    "deletable": false,
    "editable": false,
    "nbgrader": {
     "cell_type": "markdown",
     "checksum": "c71b0b0e604923a84eec27799ede4e3a",
     "grade": false,
     "grade_id": "cell-17",
     "locked": true,
     "schema_version": 3,
     "solution": false,
     "task": false
    },
    "tags": []
   },
   "source": [
    "### Aufgabe 1d) (3 Punkte)\n",
    "\n",
    "Entwerfen Sie ein Kopfhörer-Entzerrungsfilter (HpCF) durch direkte Inversion - mit folgenden drei Schritten:\n",
    "\n",
    "1. Invertieren Sie die gemittelte HpIR `hpir_avg` im Frequenzbereich und speichern Sie das Ergebnis in der Variable `hpcf_direct`.\n",
    "2. Wandeln Sie das Ergebnis mit `pf.dsp.linear_phase()` in ein linearphasiges Filter um. Setzen Sie die Gruppenlaufzeit so, dass der Peak des Zeitsignals in der Mitte zentriert ist.\n",
    "3. Wenden Sie mit `pf.dsp.time_window()` ein symmetrisches Hann-Fenster auf das Ergebnis an. Die Fensterlänge soll exakt der Anzahl Samples der inversen HpIR entsprechen.\n",
    "\n",
    "*Hinweis:* \n",
    "Arithmetische Operatoren (z.B. `+`, `-`, `*`, `/`) funktionieren auch mit `pf.Signal`-Objekten. Beispielsweise ruft der Operator `/` die Funktion `pf.divide()` auf, wenn er auf `pf.Signal` Objekte angewendet wird. [In den pyfar Tutorials](https://pyfar-gallery.readthedocs.io/en/latest/gallery/interactive/pyfar_arithmetics.html) ist beschrieben, wie sich Operationen im Zeit- und Frequenzbereich unterscheiden, und ob die arithmetischen Operatoren standardmäßig im Zeit- oder Frequenzbereich arbeiten."
   ]
  },
  {
   "cell_type": "code",
   "execution_count": null,
   "metadata": {
    "deletable": false,
    "nbgrader": {
     "cell_type": "code",
     "checksum": "2b0505e759e046d30732cef6f6a45da4",
     "grade": false,
     "grade_id": "cell-18",
     "locked": false,
     "schema_version": 3,
     "solution": true,
     "task": false
    },
    "tags": []
   },
   "outputs": [],
   "source": [
    "# Fügen Sie hier Ihre Lösung ein:\n",
    "raise NotImplementedError(\"Löschen Sie diese Zeile\")\n",
    "# Ab hier nicht mehr bearbeiten."
   ]
  },
  {
   "cell_type": "code",
   "execution_count": null,
   "metadata": {
    "deletable": false,
    "editable": false,
    "nbgrader": {
     "cell_type": "code",
     "checksum": "21a61b9781b6c652886265e031dfd8c1",
     "grade": true,
     "grade_id": "cell-19",
     "locked": true,
     "points": 3,
     "schema_version": 3,
     "solution": false,
     "task": false
    },
    "tags": []
   },
   "outputs": [],
   "source": [
    "### BEGIN TESTS\n",
    "assert isinstance(hpcf_direct, pf.Signal), f'Expected pf.Signal, got {type(hpcf_direct)}'\n",
    "assert hpcf_direct.cshape == (1,), f'Expected (1,), got {hpcf_direct.cshape}'\n",
    "assert hpcf_direct.n_samples == hpir_avg.n_samples, f'Expected {hpir_avg.n_samples}, got {hpcf_direct.n_samples}'\n",
    "\n",
    "assert np.isclose(np.mean(hpcf_direct.time), 5.3e-3, atol=2e-4), f'Expected {5.3e-3}, got {np.mean(hpcf_direct.time)}'\n",
    "assert np.isclose(np.std(hpcf_direct.time),  5.9e-2, atol=2e-3), f'Expected {5.9e-2}, got {np.std(hpcf_direct.time)}'\n",
    "### END TESTS"
   ]
  },
  {
   "cell_type": "markdown",
   "metadata": {
    "deletable": false,
    "editable": false,
    "nbgrader": {
     "cell_type": "markdown",
     "checksum": "8e5970bd8e169973491932173f5bf82a",
     "grade": false,
     "grade_id": "cell-20",
     "locked": true,
     "schema_version": 3,
     "solution": false,
     "task": false
    },
    "tags": []
   },
   "source": [
    "### Aufgabe 1e) (3 Punkte)\n",
    "\n",
    "Entwerfen Sie ein Kopfhörer-Entzerrungsfilter (HpCF) durch regularisierte Inversion - mit folgenden drei Schritten:\n",
    "\n",
    "- Führen Sie eine regularisierte Inversion der gemittelten HpTF mit `pf.dsp.regularized_spectrum_inversion()` durch und speichern Sie das Ergebnis als `hpcf_regu`. Nutzen Sie für Frequenzen unter 50 Hz und über 6 kHz einen Regularisierungsfaktor von `2.5e-3`, und innerhalb der Grenzfrequenzen den Standardwert.\n",
    "- Wandeln Sie das Ergebnis in ein linearphasiges Filter um (analog zu Aufgabe 1d)).\n",
    "- Wenden Sie ein symmetrisches Hann-Fenster auf das Ergebnis an (analog zu Aufgabe 1d))."
   ]
  },
  {
   "cell_type": "code",
   "execution_count": null,
   "metadata": {
    "deletable": false,
    "nbgrader": {
     "cell_type": "code",
     "checksum": "b79164104ca9c5f13a529f7f7714d76f",
     "grade": false,
     "grade_id": "cell-21",
     "locked": false,
     "schema_version": 3,
     "solution": true,
     "task": false
    },
    "tags": []
   },
   "outputs": [],
   "source": [
    "# Fügen Sie hier Ihre Lösung ein:\n",
    "raise NotImplementedError(\"Löschen Sie diese Zeile\")\n",
    "# Ab hier nicht mehr bearbeiten."
   ]
  },
  {
   "cell_type": "code",
   "execution_count": null,
   "metadata": {
    "deletable": false,
    "editable": false,
    "nbgrader": {
     "cell_type": "code",
     "checksum": "fdc0d77bb088a3fdf48eeb3328b6c39c",
     "grade": true,
     "grade_id": "cell-22",
     "locked": true,
     "points": 3,
     "schema_version": 3,
     "solution": false,
     "task": false
    },
    "tags": []
   },
   "outputs": [],
   "source": [
    "### BEGIN TESTS\n",
    "assert isinstance(hpcf_regu, pf.Signal), f'Expected pf.Signal, got {type(hpcf_regu)}'\n",
    "assert hpcf_regu.cshape == (1,), f'Expected (1,), got {hpcf_regu.cshape}'\n",
    "assert hpcf_regu.n_samples == hpir_avg.n_samples, f'Expected {hpir_avg.n_samples}, got {hpcf_regu.n_samples}'\n",
    "\n",
    "assert np.isclose(np.mean(hpcf_regu.time), 2.0e-4, atol=2e-5), f'Expected {2.0e-4}, got {np.mean(hpcf_regu.time)}'\n",
    "assert np.isclose(np.std(hpcf_regu.time),  1.6e-2, atol=2e-3), f'Expected {1.6e-2}, got {np.std(hpcf_regu.time)}'\n",
    "### END TESTS"
   ]
  },
  {
   "cell_type": "markdown",
   "metadata": {
    "deletable": false,
    "editable": false,
    "nbgrader": {
     "cell_type": "markdown",
     "checksum": "8808daad6581ef4938460f4fa5672f68",
     "grade": false,
     "grade_id": "cell-23",
     "locked": true,
     "schema_version": 3,
     "solution": false,
     "task": false
    },
    "tags": []
   },
   "source": [
    "### Aufgabe 1f) (2 Punkte)\n",
    "\n",
    "Vergleichen Sie die beiden inversen Filter wie folgt:\n",
    "Plotten Sie die Zeit-Frequenz-Darstellung (`pyfar.plot.time_freq()`) der beiden inversen Filter in einem gemeinsamen Plot. Benutzen Sie die Pegeldarstellung im Zeit- sowie im Frequenzbereich mithilfe der entsprechenden Parameter in der Plot-Funktion. Fügen Sie eine Legende ein."
   ]
  },
  {
   "cell_type": "code",
   "execution_count": 4,
   "metadata": {
    "deletable": false,
    "nbgrader": {
     "cell_type": "code",
     "checksum": "7d067b0b27e211f7447ca081e7c42a0e",
     "grade": true,
     "grade_id": "cell-24",
     "locked": false,
     "points": 1,
     "schema_version": 3,
     "solution": true,
     "task": false
    },
    "tags": []
   },
   "outputs": [
    {
     "ename": "NotImplementedError",
     "evalue": "Löschen Sie diese Zeile",
     "output_type": "error",
     "traceback": [
      "\u001b[0;31m---------------------------------------------------------------------------\u001b[0m",
      "\u001b[0;31mNotImplementedError\u001b[0m                       Traceback (most recent call last)",
      "Cell \u001b[0;32mIn[4], line 2\u001b[0m\n\u001b[1;32m      1\u001b[0m \u001b[38;5;66;03m# Fügen Sie hier Ihre Lösung ein:\u001b[39;00m\n\u001b[0;32m----> 2\u001b[0m \u001b[38;5;28;01mraise\u001b[39;00m \u001b[38;5;167;01mNotImplementedError\u001b[39;00m(\u001b[38;5;124m\"\u001b[39m\u001b[38;5;124mLöschen Sie diese Zeile\u001b[39m\u001b[38;5;124m\"\u001b[39m)\n\u001b[1;32m      3\u001b[0m \u001b[38;5;66;03m# Ab hier nicht mehr bearbeiten.\u001b[39;00m\n\u001b[1;32m      4\u001b[0m plt\u001b[38;5;241m.\u001b[39mshow()\n",
      "\u001b[0;31mNotImplementedError\u001b[0m: Löschen Sie diese Zeile"
     ]
    }
   ],
   "source": [
    "# Fügen Sie hier Ihre Lösung ein:\n",
    "raise NotImplementedError(\"Löschen Sie diese Zeile\")\n",
    "# Ab hier nicht mehr bearbeiten.\n",
    "plt.show()"
   ]
  },
  {
   "cell_type": "markdown",
   "metadata": {
    "deletable": false,
    "nbgrader": {
     "cell_type": "markdown",
     "checksum": "6892564365c66d9b0a8adf932c71d5c3",
     "grade": true,
     "grade_id": "cell-25",
     "locked": false,
     "points": 1,
     "schema_version": 3,
     "solution": true,
     "task": false
    },
    "tags": []
   },
   "source": [
    "Beschreiben Sie die Unterschiede der Impulsantworten und Spektren.\n",
    "\n",
    "*Fügen Sie hier Ihre Lösung ein:*\n",
    "\n",
    "\n",
    "*Ab hier nicht mehr bearbeiten.*"
   ]
  },
  {
   "cell_type": "markdown",
   "metadata": {
    "deletable": false,
    "editable": false,
    "nbgrader": {
     "cell_type": "markdown",
     "checksum": "cceb80c08f902ee08af65cb3e4c0e4cd",
     "grade": false,
     "grade_id": "cell-26",
     "locked": true,
     "schema_version": 3,
     "solution": false,
     "task": false
    },
    "tags": []
   },
   "source": [
    "### Aufgabe 1g) (3 Punkte)\n",
    "\n",
    "Vergleichen Sie die Ergebnisse durch Faltung der inversen Filter mit den HpIRs. Gehen Sie wie folgt vor:\n",
    "\n",
    "1. Falten Sie die ungemittelten HpIRs des rechten Ohrs (`hpir_r`) mit den Entzerrungsfiltern `hpcf_direct` und `hpcf_regu`. Benutzen Sie die Funktion `pf.dsp.convolve()`.\n",
    "2. Speichern Sie die Ergebnisse in den Variablen `hpir_compensated_direct` und `hpir_compensated_regu`. "
   ]
  },
  {
   "cell_type": "code",
   "execution_count": null,
   "metadata": {
    "deletable": false,
    "nbgrader": {
     "cell_type": "code",
     "checksum": "fbd30d61695d2869eca3b4de07d42472",
     "grade": false,
     "grade_id": "cell-27",
     "locked": false,
     "schema_version": 3,
     "solution": true,
     "task": false
    },
    "tags": []
   },
   "outputs": [],
   "source": [
    "# Fügen Sie hier Ihre Lösung ein:\n",
    "raise NotImplementedError(\"Löschen Sie diese Zeile\")\n",
    "# Ab hier nicht mehr bearbeiten."
   ]
  },
  {
   "cell_type": "code",
   "execution_count": null,
   "metadata": {
    "deletable": false,
    "editable": false,
    "nbgrader": {
     "cell_type": "code",
     "checksum": "ad250ba533f423eda53351faf040114c",
     "grade": true,
     "grade_id": "cell-28",
     "locked": true,
     "points": 1,
     "schema_version": 3,
     "solution": false,
     "task": false
    },
    "tags": []
   },
   "outputs": [],
   "source": [
    "### BEGIN TESTS\n",
    "assert isinstance(hpir_compensated_direct, pf.Signal), f'Expected pf.Signal, got {type(hpir_compensated_direct)}'\n",
    "assert isinstance(hpir_compensated_regu, pf.Signal), f'Expected pf.Signal, got {type(hpir_compensated_regu)}'\n",
    "assert hpir_compensated_direct.cshape == (12,), f'Expected (12,), got {hpir_compensated_direct.cshape}'\n",
    "assert hpir_compensated_regu.cshape == (12,), f'Expected (12,), got {hpir_compensated_regu.cshape}'\n",
    "\n",
    "assert np.isclose(np.mean(hpir_compensated_direct.time), 7.4e-5, atol=2e-6), f'Expected {7.4e-5}, got {np.mean(hpir_compensated_direct.time)}'\n",
    "assert np.isclose(np.std( hpir_compensated_direct.time), 1.1e-2, atol=2e-3), f'Expected {1.1e-2}, got {np.std(hpir_compensated_direct.time)}'\n",
    "assert np.isclose(np.mean(hpir_compensated_regu.time)  , 2.9e-6, atol=2e-7), f'Expected {2.9e-6}, got {np.mean(hpir_compensated_regu.time)}'\n",
    "assert np.isclose(np.std( hpir_compensated_regu.time)  , 1.0e-2, atol=2e-3), f'Expected {1.0e-2}, got {np.std(hpir_compensated_regu.time)}'\n",
    "### END TESTS"
   ]
  },
  {
   "cell_type": "markdown",
   "metadata": {
    "deletable": false,
    "editable": false,
    "nbgrader": {
     "cell_type": "markdown",
     "checksum": "15d33785992bdbb21fadc23169bf5074",
     "grade": false,
     "grade_id": "cell-29",
     "locked": true,
     "schema_version": 3,
     "solution": false,
     "task": false
    },
    "tags": []
   },
   "source": [
    "Stellen Sie die Impulsantworten und Spektren der kompensierten HpIRs `hpir_compensated_direct` und `hpir_compensated_regu` grafisch dar (2 Figures mit jeweils einem `pyfar.plot.time_freq()` Plot). Benutzen Sie die Pegeldarstellung im Zeit- sowie im Frequenzbereich mithilfe der entsprechenden Parameter in der Plot-Funktion. Benutzen Sie in beiden Grafiken die gleichen Achsenlimits."
   ]
  },
  {
   "cell_type": "code",
   "execution_count": null,
   "metadata": {
    "deletable": false,
    "nbgrader": {
     "cell_type": "code",
     "checksum": "937cca6209ffc68cf37f2e25422ad952",
     "grade": true,
     "grade_id": "cell-30",
     "locked": false,
     "points": 1,
     "schema_version": 3,
     "solution": true,
     "task": false
    },
    "tags": []
   },
   "outputs": [],
   "source": [
    "# Fügen Sie hier Ihre Lösung ein:\n",
    "raise NotImplementedError(\"Löschen Sie diese Zeile\")\n",
    "# Ab hier nicht mehr bearbeiten.\n",
    "plt.show()"
   ]
  },
  {
   "cell_type": "markdown",
   "metadata": {
    "deletable": false,
    "nbgrader": {
     "cell_type": "markdown",
     "checksum": "4f52c8582c41808992f31417ef8bf5a2",
     "grade": true,
     "grade_id": "cell-31",
     "locked": false,
     "points": 1,
     "schema_version": 3,
     "solution": true,
     "task": false
    },
    "tags": []
   },
   "source": [
    "Beschreiben Sie die Unterschiede der beiden kompensierten Filter. Welche Form sollten Impulsantwort und Frequenzgang der kompensierten Filter im Optimalfall annehmen?\n",
    "\n",
    "*Fügen Sie hier Ihre Lösung ein:*\n",
    "\n",
    "\n",
    "*Ab hier nicht mehr bearbeiten.*"
   ]
  },
  {
   "cell_type": "markdown",
   "metadata": {
    "deletable": false,
    "editable": false,
    "nbgrader": {
     "cell_type": "markdown",
     "checksum": "c18c17814e0effdc65ad25e475000214",
     "grade": false,
     "grade_id": "cell-32",
     "locked": true,
     "schema_version": 3,
     "solution": false,
     "task": false
    },
    "tags": []
   },
   "source": [
    "### Aufgabe 1h) (2 Punkte)\n",
    "\n",
    "Vergleichen Sie die beiden Filtertypen wie folgt:\n",
    "\n",
    "Erzeugen Sie mit `pf.signals.noise()` ein rosa Rauschen von $0.5\\,\\mathrm{s}$ Länge. \n",
    "\n",
    "Falten Sie `hpir_compensated_direct` und `hpir_compensated_regu` mit dem Rauschsignal. Achten Sie darauf, dass die Signale nicht übersteuern, indem Sie die rms-Energie des Rauschsignals niedrig genug setzen. Speichern Sie die Ergebnisse in den Variablen `filtered_noise_direct` und `filtered_noise_regu`.\n",
    "\n",
    "Spielen Sie für beide Filtertypen die gefilterten Rauschsignale für alle Messungen hintereinander ab und hören Sie auf die Unterschiede zwischen den einzelnen Messungen.\n",
    "\n",
    "**Hinweis:** Benutzen Sie die Funktion `sd.play()`. Wenn Sie alle Signale hintereinander mit einer for-Schleife abspielen, können Sie mit `sd.play(..., blocking=True)` sicherstellen, dass die Signale nicht gleichzeitig, sondern nacheinander abgespielt werden."
   ]
  },
  {
   "cell_type": "code",
   "execution_count": null,
   "metadata": {
    "deletable": false,
    "nbgrader": {
     "cell_type": "code",
     "checksum": "2c3a7aa3e9c9cad2ba457ed2fe9767ae",
     "grade": false,
     "grade_id": "cell-33",
     "locked": false,
     "schema_version": 3,
     "solution": true,
     "task": false
    },
    "tags": []
   },
   "outputs": [],
   "source": [
    "# Rosa rauschen erzeugen und mit kompensierten Filtern falten\n",
    "# Fügen Sie hier Ihre Lösung ein:\n",
    "raise NotImplementedError(\"Löschen Sie diese Zeile\")\n",
    "# Ab hier nicht mehr bearbeiten.\n",
    "\n",
    "# Kompensierte Filter mit Rauschen falten:\n",
    "# Fügen Sie hier Ihre Lösung ein:\n",
    "raise NotImplementedError(\"Löschen Sie diese Zeile\")\n",
    "# Ab hier nicht mehr bearbeiten.\n",
    "\n",
    "# Ausgangsgerät setzen\n",
    "# hier entweder den Index des gewünschten Ausgabegeräts oder dessen Namen als string angeben: \n",
    "sd.default.device = 0\n",
    "print(f'sd.query_devices(): \\n{sd.query_devices()}\\n')\n",
    "\n",
    "PLAY_AUDIO = False # Bitte vor Hochladen der Abgabe wieder auf False setzen\n",
    "if PLAY_AUDIO == 1:\n",
    "    # Kanäle von filtered_noise_direct hintereinander abspielen:\n",
    "    # Fügen Sie hier Ihre Lösung ein:\n",
    "    raise NotImplementedError(\"Löschen Sie diese Zeile\")\n",
    "    # Ab hier nicht mehr bearbeiten.\n",
    "\n",
    "if PLAY_AUDIO == 2:\n",
    "    # Kanäle von filtered_noise_regu hintereinander abspielen:\n",
    "    # Fügen Sie hier Ihre Lösung ein:\n",
    "    raise NotImplementedError(\"Löschen Sie diese Zeile\")\n",
    "    # Ab hier nicht mehr bearbeiten."
   ]
  },
  {
   "cell_type": "code",
   "execution_count": null,
   "metadata": {
    "deletable": false,
    "editable": false,
    "nbgrader": {
     "cell_type": "code",
     "checksum": "c713829642b715bd6c375c0d57fcb9a2",
     "grade": true,
     "grade_id": "cell-33-tests",
     "locked": true,
     "points": 1,
     "schema_version": 3,
     "solution": false,
     "task": false
    }
   },
   "outputs": [],
   "source": [
    "### BEGIN TESTS\n",
    "assert isinstance(filtered_noise_direct, pf.Signal), f'Expected pf.Signal, got {type(filtered_noise_direct)}'\n",
    "assert isinstance(filtered_noise_regu, pf.Signal), f'Expected pf.Signal, got {type(filtered_noise_regu)}'\n",
    "assert filtered_noise_direct.cshape == (12,), f'Expected (12,), got {filtered_noise_direct.cshape}'\n",
    "assert filtered_noise_regu.cshape == (12,), f'Expected (12,), got {filtered_noise_regu.cshape}'\n",
    "assert np.max(np.abs(filtered_noise_direct.time)) < 1, 'Signal is clipping, check your levels.'\n",
    "assert np.max(np.abs(filtered_noise_regu.time)) < 1, 'Signal is clipping, check your levels.'\n",
    "### END TESTS"
   ]
  },
  {
   "cell_type": "markdown",
   "metadata": {
    "deletable": false,
    "nbgrader": {
     "cell_type": "markdown",
     "checksum": "d787ae6f9731bf719e8568014890a825",
     "grade": true,
     "grade_id": "cell-34",
     "locked": false,
     "points": 1,
     "schema_version": 3,
     "solution": true,
     "task": false
    },
    "tags": []
   },
   "source": [
    "Beschreiben Sie kurz die klanglichen Unterschiede. Wie sollte sich das Signal im Optimalfall anhören? Welcher der beiden Filtertypen erzeugt auffälligere Unterschiede? Erklären Sie diese Unterschiede anhand der Frequenzgänge der kompensierten Filter.\n",
    "\n",
    "*Fügen Sie hier Ihre Lösung ein:*\n",
    "\n",
    "\n",
    "*Ab hier nicht mehr bearbeiten.*"
   ]
  },
  {
   "cell_type": "markdown",
   "metadata": {
    "deletable": false,
    "editable": false,
    "nbgrader": {
     "cell_type": "markdown",
     "checksum": "a6f58d78159e23abc4911c826081b6e5",
     "grade": false,
     "grade_id": "cell-35",
     "locked": true,
     "schema_version": 3,
     "solution": false,
     "task": false
    },
    "tags": []
   },
   "source": [
    "# Aufgabe 2: Stereofone Abbildung\n",
    "\n",
    "Auf der folgenden maßstabsgetreuen Zeichnung sind vier Schallquellen (S1 - S4) dargestellt, die mit einem Paar omnidirektionaler Mikrofone mit Mikrofonabstand $a$ aufgenommen werden. Stellen Sie sich vor, es handelt sich um ein Streichquartett auf einer Bühne.\n",
    "Durch die unterschiedlichen Distanzen zwischen Schallquelle und den beiden Mikrofonen werden Laufzeitdifferenzen zwischen den Mikrofonkanälen erzeugt.\n",
    "\n",
    "Rechts ist dargestellt, welcher wahrgenommene Position der Phantomschallquelle im Stereopanorama ($0$: Mitte, $\\pm 1$: rechts/links) durch eine Zeitdifferenz $\\Delta t$ bzw. Pegeldifferenz $\\Delta L$ zwischen linkem und rechtem Kanal erzeugt wird.\n",
    "\n",
    "**Hinweis:** Geben Sie bei den Rechnungen alle Rechenschritte an. Rechnungen können Sie wahlweise in den Markdown-Feldern mit $\\LaTeX$-Formatierung eingeben, oder handschriftlich lösen und als Scan abgeben. Diese Aufgabe kann wahlweise komplett handschriftlich gelöst werden, oder zum Teil mit Hilfe von Python. Wenn Sie die Berechnungen handschriftlich durchführen, lassen Sie die Python-Zellen einfach leer (und umgekehrt).\n",
    "\n",
    "<div>\n",
    "<img src=stereofone_abbildung_skizze.PNG width=\"35%\"/> <img src=stereofone_abbildung_lokalisation.PNG width=\"50%\"/>\n",
    "</div> "
   ]
  },
  {
   "cell_type": "markdown",
   "metadata": {
    "deletable": false,
    "editable": false,
    "nbgrader": {
     "cell_type": "markdown",
     "checksum": "ede36378bc1307fe3835644fa2e7da44",
     "grade": false,
     "grade_id": "cell-36",
     "locked": true,
     "schema_version": 3,
     "solution": false,
     "task": false
    },
    "tags": []
   },
   "source": [
    "### Aufgabe 1a) (1 Punkt)\n",
    "\n",
    "Die Distanz einer Schallquelle zu den beiden Mikrofonen seien $s_1$ und $s_2$. Leiten Sie eine Formel für den Laufzeitunterschied $\\Delta t$ zwischen den beiden Signalen in Abhängigkeit von $s_1$ und $s_2$ her. \n"
   ]
  },
  {
   "cell_type": "markdown",
   "metadata": {
    "deletable": false,
    "nbgrader": {
     "cell_type": "markdown",
     "checksum": "9068bb2716d2c26615f06fb564703a57",
     "grade": true,
     "grade_id": "cell-37",
     "locked": false,
     "points": 1,
     "schema_version": 3,
     "solution": true,
     "task": false
    },
    "tags": []
   },
   "source": [
    "*Fügen Sie hier Ihre Lösung ein:*\n",
    "\n",
    "\n",
    "*Ab hier nicht mehr bearbeiten.*"
   ]
  },
  {
   "cell_type": "markdown",
   "metadata": {
    "deletable": false,
    "editable": false,
    "nbgrader": {
     "cell_type": "markdown",
     "checksum": "37a77360cb03e3ab2ed8ec229777d327",
     "grade": false,
     "grade_id": "cell-38",
     "locked": true,
     "schema_version": 3,
     "solution": false,
     "task": false
    },
    "tags": []
   },
   "source": [
    "### Aufgabe 2b) (2 Punkte)\n",
    "\n",
    "Nehmen Sie an, dass die Mikrofone nicht wie in der Skizze platziert sind, sondern im Mikrofonabstand $a = 17\\,\\mathrm{cm}$ (typischer Ohrabstand). Nehmen Sie eine Schallgeschwindigkeit von $c=340\\,\\mathrm{m/s}$ an. \n",
    "\n",
    "Lesen Sie die Position von S1 aus der Grafik ab und bestimmen Sie die resultierende Laufzeitdifferenz $\\Delta t$.\n",
    "\n",
    "**Hinweis:** Zur Berechnung von $s_1$ und $s_2$ bietet sich Vektorrechnung an. Sie können die Berechnung wahlweise in Python oder handschriftlich durchführen. Lassen Sie die jeweils ungenutze Zelle einfach leer. Hilfreiche Funktionen zur Vektorrechnung in python sind z.B. `vector = np.array([x, y])` und `np.linalg.norm()`."
   ]
  },
  {
   "cell_type": "markdown",
   "metadata": {
    "deletable": false,
    "nbgrader": {
     "cell_type": "markdown",
     "checksum": "e113b246d19b30df43ab0b5ac5fa8836",
     "grade": true,
     "grade_id": "cell-39",
     "locked": false,
     "points": 0,
     "schema_version": 3,
     "solution": true,
     "task": false
    },
    "tags": []
   },
   "source": [
    "*Für Lösungen in Text/$\\mathrm{\\LaTeX}$-Form:*\n",
    "\n",
    "*Fügen Sie hier Ihre Lösung ein:*\n",
    "\n",
    "\n",
    "*Ab hier nicht mehr bearbeiten.*"
   ]
  },
  {
   "cell_type": "code",
   "execution_count": null,
   "metadata": {
    "deletable": false,
    "nbgrader": {
     "cell_type": "code",
     "checksum": "9e6534b6e6422c4aa6f1b763c4780af5",
     "grade": true,
     "grade_id": "cell-40",
     "locked": false,
     "points": 1,
     "schema_version": 3,
     "solution": true,
     "task": false
    },
    "tags": []
   },
   "outputs": [],
   "source": [
    "# Für Lösungen mit Python:\n",
    "# Fügen Sie hier Ihre Lösung ein:\n",
    "raise NotImplementedError(\"Löschen Sie diese Zeile\")\n",
    "# Ab hier nicht mehr bearbeiten."
   ]
  },
  {
   "cell_type": "markdown",
   "metadata": {
    "deletable": false,
    "nbgrader": {
     "cell_type": "markdown",
     "checksum": "414ca767de9632d41309620920a92c5e",
     "grade": true,
     "grade_id": "cell-41",
     "locked": false,
     "points": 1,
     "schema_version": 3,
     "solution": true,
     "task": false
    },
    "tags": []
   },
   "source": [
    "Lesen Sie aus der Abbildung ab, an welcher Stelle im Stereopanorama die Phantomquelle (ungefähr) erscheinen wird.\n",
    "\n",
    "*Fügen Sie hier Ihre Lösung ein:*\n",
    "\n",
    "\n",
    "*Ab hier nicht mehr bearbeiten.*"
   ]
  },
  {
   "cell_type": "markdown",
   "metadata": {
    "deletable": false,
    "editable": false,
    "nbgrader": {
     "cell_type": "markdown",
     "checksum": "be5dcf79603fda1cbb5128c89ee56386",
     "grade": false,
     "grade_id": "cell-42",
     "locked": true,
     "schema_version": 3,
     "solution": false,
     "task": false
    },
    "tags": []
   },
   "source": [
    "### Aufgabe 2c) (2 Punkte)\n",
    "\n",
    "Bestimmen Sie nochmal die Laufzeitdifferenz $\\Delta t$, nun mit Hilfe der Fernfeldnäherung\n",
    "$$ \\Delta t \\approx \\frac{a}{c} \\sin(\\varphi) . $$\n",
    "\n",
    "Legen Sie den Winkel $\\varphi$ am Koordinatenursprung an (in der Fernfeldnäherung wird davon ausgegangen, dass der Winkel gleich ist, egal ob er am Mittelpunkt oder an einem der Mikrofone angelegt wird).\n",
    "\n",
    "Bestimmen Sie den durch die Fernfeldnäherung auftretenden Fehler in Prozent."
   ]
  },
  {
   "cell_type": "markdown",
   "metadata": {
    "deletable": false,
    "nbgrader": {
     "cell_type": "markdown",
     "checksum": "60ae208e37b5a07fca1b8a9c361bd58a",
     "grade": true,
     "grade_id": "cell-43",
     "locked": false,
     "points": 0,
     "schema_version": 3,
     "solution": true,
     "task": false
    },
    "tags": []
   },
   "source": [
    "*Für Lösungen in Text/$\\mathrm{\\LaTeX}$-Form:*\n",
    "\n",
    "*Fügen Sie hier Ihre Lösung ein:*\n",
    "\n",
    "\n",
    "*Ab hier nicht mehr bearbeiten.*"
   ]
  },
  {
   "cell_type": "code",
   "execution_count": null,
   "metadata": {
    "deletable": false,
    "nbgrader": {
     "cell_type": "code",
     "checksum": "e41e930f7df62dc182d9f14851d1d394",
     "grade": true,
     "grade_id": "cell-44",
     "locked": false,
     "points": 2,
     "schema_version": 3,
     "solution": true,
     "task": false
    },
    "tags": []
   },
   "outputs": [],
   "source": [
    "# Für Lösungen mit Python:\n",
    "# Fügen Sie hier Ihre Lösung ein:\n",
    "raise NotImplementedError(\"Löschen Sie diese Zeile\")\n",
    "# Ab hier nicht mehr bearbeiten."
   ]
  },
  {
   "cell_type": "markdown",
   "metadata": {
    "deletable": false,
    "editable": false,
    "nbgrader": {
     "cell_type": "markdown",
     "checksum": "ccbc20e446eb141b5666d17450be7c96",
     "grade": false,
     "grade_id": "cell-45",
     "locked": true,
     "schema_version": 3,
     "solution": false,
     "task": false
    },
    "tags": []
   },
   "source": [
    "### Aufgabe 2d) (2 Punkte)\n",
    "\n",
    "Wenn S1 auf dem Stereopanorama ganz links erscheinen soll, wie groß ist der erforderliche Mikrofonabstand $a$ in cm (gerundet auf 5 cm)?\n",
    "\n",
    "*Hinweis:* Sie können entweder die Fernfeldnäherung benutzen oder $\\Delta t$ analog zu Aufgabe 2a) für mehrere Werte von $a$ berechnen und den Mikrofonabstand ermitteln, der die gewünschte Laufzeitdifferenz erzeugt. "
   ]
  },
  {
   "cell_type": "markdown",
   "metadata": {
    "deletable": false,
    "nbgrader": {
     "cell_type": "markdown",
     "checksum": "a899cb72ea2c52a9828867677f141308",
     "grade": true,
     "grade_id": "cell-46",
     "locked": false,
     "points": 0,
     "schema_version": 3,
     "solution": true,
     "task": false
    },
    "tags": []
   },
   "source": [
    "*Für Lösungen in Text/$\\mathrm{\\LaTeX}$-Form:*\n",
    "\n",
    "*Fügen Sie hier Ihre Lösung ein:*\n",
    "\n",
    "\n",
    "*Ab hier nicht mehr bearbeiten.*"
   ]
  },
  {
   "cell_type": "code",
   "execution_count": null,
   "metadata": {
    "deletable": false,
    "nbgrader": {
     "cell_type": "code",
     "checksum": "bf1ba47836c681bee701a2ad94a2741e",
     "grade": true,
     "grade_id": "cell-47",
     "locked": false,
     "points": 2,
     "schema_version": 3,
     "solution": true,
     "task": false
    },
    "tags": []
   },
   "outputs": [],
   "source": [
    "# Für Lösungen mit Python:\n",
    "\n",
    "# Fügen Sie hier Ihre Lösung ein:\n",
    "raise NotImplementedError(\"Löschen Sie diese Zeile\")\n",
    "# Ab hier nicht mehr bearbeiten."
   ]
  },
  {
   "cell_type": "markdown",
   "metadata": {
    "deletable": false,
    "editable": false,
    "nbgrader": {
     "cell_type": "markdown",
     "checksum": "2a0900ec244f2ef49acc8117da0e1f9c",
     "grade": false,
     "grade_id": "cell-48",
     "locked": true,
     "schema_version": 3,
     "solution": false,
     "task": false
    },
    "tags": []
   },
   "source": [
    "### Aufgabe 1e) (1 Punkt)\n",
    "\n",
    "Die Basis des Stereomikrofons betrage nun wieder $a = 17 \\,\\mathrm{cm}$. S1 wird mit einem zusätzlichen Stützmikrofon in unmittelbarer Nähe des Instruments aufgenommen. Das Signal des Stützmikrofons wird durch Amplitudenpanning zum Stereosignal gemischt. Wie groß ist die erforderliche Pegeldifferenz in dB, damit die Phantomschallquelle des Stützmikrofonsignals im Lautsprecherpanorama an der gleichen Stelle erscheint wie die Phantomschallquelle des Stereomikrofons (gerundet auf 1 dB)?"
   ]
  },
  {
   "cell_type": "markdown",
   "metadata": {
    "deletable": false,
    "nbgrader": {
     "cell_type": "markdown",
     "checksum": "ee576d017e245045d8abbd08c18277f9",
     "grade": true,
     "grade_id": "cell-49",
     "locked": false,
     "points": 1,
     "schema_version": 3,
     "solution": true,
     "task": false
    },
    "tags": []
   },
   "source": [
    "*Fügen Sie hier Ihre Lösung ein:*\n",
    "\n",
    "\n",
    "*Ab hier nicht mehr bearbeiten.*"
   ]
  }
 ],
 "metadata": {
  "kernelspec": {
   "display_name": "eds",
   "language": "python",
   "name": "python3"
  },
  "language_info": {
   "codemirror_mode": {
    "name": "ipython",
    "version": 3
   },
   "file_extension": ".py",
   "mimetype": "text/x-python",
   "name": "python",
   "nbconvert_exporter": "python",
   "pygments_lexer": "ipython3",
   "version": "3.10.15"
  }
 },
 "nbformat": 4,
 "nbformat_minor": 4
}
